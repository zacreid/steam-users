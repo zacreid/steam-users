{
 "cells": [
  {
   "cell_type": "markdown",
   "metadata": {},
   "source": [
    "Steam User Analysis - Zac Reid\n",
    "\n",
    "Takes a JSON file of steam users to perform analysis (from steam_scrape.ipynb)\n",
    "#################################################################################"
   ]
  },
  {
   "cell_type": "code",
   "execution_count": 80,
   "metadata": {},
   "outputs": [],
   "source": [
    "%%capture\n",
    "# Import / Install packages, set env vars. and declare global vars.\n",
    "\n",
    "\n",
    "%load_ext autoreload\n",
    "%autoreload 2\n",
    "%pip install networkx seaborn igraph-python matplotlib\n",
    "\n",
    "k4 = (3840, 2160)\n",
    "k2 = (2560, 1440)\n",
    "k1 = (1920, 1080)\n",
    "\n",
    "from SteamUser import *\n",
    "import json\n",
    "import networkx as nx\n",
    "import igraph as ig\n",
    "import seaborn as sns\n",
    "import matplotlib.pyplot as plt\n",
    "import statistics\n",
    "import os"
   ]
  },
  {
   "cell_type": "code",
   "execution_count": 47,
   "metadata": {},
   "outputs": [
    {
     "name": "stdout",
     "output_type": "stream",
     "text": [
      "Collected 22131 users from file!\n"
     ]
    }
   ],
   "source": [
    "# Import JSON data\n",
    "users = {}\n",
    "filename = \"users22k3.json\"\n",
    "nickname = filename.split(\".\")[0]\n",
    "plotfile = \"plots\\\\\" + nickname\n",
    "\n",
    "os.makedirs(plotfile, exist_ok=True)\n",
    "\n",
    "\n",
    "with open(filename, \"r\") as file:\n",
    "    for l in file.readlines():\n",
    "        u = SteamUser.fromdict(json.loads(l))\n",
    "        users[u.steamID] = u\n",
    "    file.close()\n",
    "\n",
    "print(\"Collected {} users from file!\".format(len(users)))"
   ]
  },
  {
   "cell_type": "code",
   "execution_count": 48,
   "metadata": {},
   "outputs": [
    {
     "name": "stdout",
     "output_type": "stream",
     "text": [
      "Created a graph with 16308 nodes and 110685 edges!\n"
     ]
    }
   ],
   "source": [
    "# Create networkx graph with attributes\n",
    "\n",
    "G = nx.Graph()\n",
    "G.add_nodes_from([u for u in users if users[u].friends != None and len(users[u].friends) > 0])\n",
    "G.add_edges_from([[u.steamID, f] for u in users.values() if u.friends != None and len(u.friends) > 0 for f in u.friends if f in users and users[f].friends != None and len(users[f].friends) > 0 ])\n",
    "nx.set_node_attributes(G, dict(((u, users[u].asdict()) for u in users if users[u].friends != None and len(users[u].friends) > 0)))\n",
    "print(\"Created a graph with {} nodes and {} edges!\".format(G.number_of_nodes(), G.number_of_edges()))"
   ]
  },
  {
   "cell_type": "code",
   "execution_count": 49,
   "metadata": {},
   "outputs": [],
   "source": [
    "# Create igraph network that references our networkx graph\n",
    "\n",
    "g = ig.Graph.from_networkx(G)"
   ]
  },
  {
   "cell_type": "code",
   "execution_count": 51,
   "metadata": {},
   "outputs": [
    {
     "name": "stdout",
     "output_type": "stream",
     "text": [
      "Fitted power-law distribution on discrete data\n",
      "\n",
      "Exponent (alpha)  = 3.129416\n",
      "Cutoff (xmin)     = 50.000000\n",
      "\n",
      "Log-likelihood    = -7491.611983\n",
      "\n",
      "H0: data was drawn from the fitted distribution\n",
      "\n",
      "KS test statistic = 0.027932\n",
      "p-value           = 0.158848\n",
      "\n",
      "H0 could not be rejected at significance level 0.05\n"
     ]
    }
   ],
   "source": [
    "# Try and fit powerlaw\n",
    "\n",
    "r = ig.statistics.power_law_fit(g.vs[\"level\"])\n",
    "print(r)"
   ]
  },
  {
   "cell_type": "code",
   "execution_count": 52,
   "metadata": {},
   "outputs": [
    {
     "name": "stdout",
     "output_type": "stream",
     "text": [
      "Fitted power-law distribution on discrete data\n",
      "\n",
      "Exponent (alpha)  = 4.654745\n",
      "Cutoff (xmin)     = 297.000000\n",
      "\n",
      "Log-likelihood    = -6298.978896\n",
      "\n",
      "H0: data was drawn from the fitted distribution\n",
      "\n",
      "KS test statistic = 0.016966\n",
      "p-value           = 0.906395\n",
      "\n",
      "H0 could not be rejected at significance level 0.05\n"
     ]
    }
   ],
   "source": [
    "# Try and fit powerlaw\n",
    "\n",
    "r = ig.statistics.power_law_fit(len(f) for f in g.vs[\"friends\"] if type(f) != None)\n",
    "print(r)"
   ]
  },
  {
   "cell_type": "code",
   "execution_count": 53,
   "metadata": {},
   "outputs": [
    {
     "name": "stdout",
     "output_type": "stream",
     "text": [
      "Fitted power-law distribution on discrete data\n",
      "\n",
      "Exponent (alpha)  = 2.981290\n",
      "Cutoff (xmin)     = 40.000000\n",
      "\n",
      "Log-likelihood    = -5289.073222\n",
      "\n",
      "H0: data was drawn from the fitted distribution\n",
      "\n",
      "KS test statistic = 0.034193\n",
      "p-value           = 0.127846\n",
      "\n",
      "H0 could not be rejected at significance level 0.05\n"
     ]
    }
   ],
   "source": [
    "# Try and fit powerlaw\n",
    "\n",
    "r = ig.statistics.power_law_fit(g.degree())\n",
    "print(r)"
   ]
  },
  {
   "cell_type": "code",
   "execution_count": 59,
   "metadata": {},
   "outputs": [
    {
     "name": "stdout",
     "output_type": "stream",
     "text": [
      "Created plot\n"
     ]
    }
   ],
   "source": [
    "# Create plot of network\n",
    "\n",
    "g_layout = g.layout_lgl()\n",
    "att = {\n",
    "    'bbox': k4,\n",
    "    'target': (plotfile + \"\\\\default_plot_\" + nickname + \".png\"),\n",
    "    'edge_with': 1,\n",
    "    'edge_color': 'grey',\n",
    "    'vertex_size': 20,\n",
    "    'vertex_color': 'royalblue',\n",
    "}\n",
    "ig.plot(g, layout=g_layout, **att)\n",
    "print(\"Created plot\")"
   ]
  },
  {
   "cell_type": "code",
   "execution_count": 58,
   "metadata": {},
   "outputs": [
    {
     "name": "stdout",
     "output_type": "stream",
     "text": [
      "Max: 1996, Min: 1, Mean: 119.9860191317145, Median: 88.0, Mode: 1, Range: (1, 1996)\n"
     ]
    },
    {
     "data": {
      "image/png": "[encoded data removed]",
      "text/plain": [
       "<Figure size 360x360 with 1 Axes>"
      ]
     },
     "metadata": {
      "needs_background": "light"
     },
     "output_type": "display_data"
    }
   ],
   "source": [
    "#Distribution Of Friends\n",
    "\n",
    "number_of_friends = [len(f) for f in g.vs[\"friends\"]]\n",
    "\n",
    "mx = max(number_of_friends)\n",
    "mn = min(number_of_friends)\n",
    "mean = sum(number_of_friends) / len(number_of_friends)\n",
    "median = statistics.median(number_of_friends)\n",
    "mode = statistics.mode(number_of_friends)\n",
    "range = (mn, mx)\n",
    "print(\"Max: {}, Min: {}, Mean: {}, Median: {}, Mode: {}, Range: {}\".format(mx, mn, mean, median, mode, range))\n",
    "\n",
    "sns.displot(number_of_friends, kde=True)\n",
    "m1 = plt.axvline(mean, color=\"blue\", linestyle='--' ,label=\"Mean: {}\".format(round(mean, 3)))\n",
    "m2 = plt.axvline(mode, color=\"green\", linestyle='-.' ,label=\"Mode: {}\".format(mode))\n",
    "m3 = plt.axvline(median, color=\"purple\", linestyle=':' ,label=\"Median: {}\".format(int(median)))\n",
    "\n",
    "plt.xlabel(\"Friends\")\n",
    "plt.title(\"Dist. of Friends\")\n",
    "plt.margins(0.01)\n",
    "plt.legend(loc=0)\n",
    "\n",
    "plt.savefig(fname=(plotfile + \"\\\\friend_dist_\" + nickname + \".png\"))"
   ]
  },
  {
   "cell_type": "code",
   "execution_count": 60,
   "metadata": {},
   "outputs": [
    {
     "name": "stdout",
     "output_type": "stream",
     "text": [
      "Max: 1111, Min: 0, Mean: 23.20775079715477, Median: 13.0, Mode: 10, Range: (0, 1111)\n"
     ]
    },
    {
     "data": {
      "image/png": "[encoded data removed]",
      "text/plain": [
       "<Figure size 360x360 with 1 Axes>"
      ]
     },
     "metadata": {
      "needs_background": "light"
     },
     "output_type": "display_data"
    }
   ],
   "source": [
    "#Distibution of level\n",
    "\n",
    "user_levels = [l or 0 for l in g.vs[\"level\"]]\n",
    "\n",
    "mx = max(user_levels)\n",
    "mn = min(user_levels)\n",
    "mean = sum(user_levels) / len(user_levels)\n",
    "median = statistics.median(user_levels)\n",
    "mode = statistics.mode(user_levels)\n",
    "range = (mn, mx)\n",
    "print(\"Max: {}, Min: {}, Mean: {}, Median: {}, Mode: {}, Range: {}\".format(mx, mn, mean, median, mode, range))\n",
    "\n",
    "sns.displot(user_levels, kde=True)\n",
    "m1 = plt.axvline(mean, color=\"blue\", linestyle='--' ,label=\"Mean: {}\".format(round(mean, 3)), linewidth=0)\n",
    "m2 = plt.axvline(mode, color=\"green\", linestyle='-.' ,label=\"Mode: {}\".format(mode), linewidth=0)\n",
    "m3 = plt.axvline(median, color=\"purple\", linestyle=':' ,label=\"Median: {}\".format(int(median)), linewidth=0)\n",
    "\n",
    "plt.xlabel(\"Level\")\n",
    "plt.title(\"Dist. of Level\")\n",
    "plt.margins(0.01)\n",
    "plt.legend(loc=0)\n",
    "plt.tight_layout()\n",
    "plt.ylim(0,user_levels.count(mode) + 20)\n",
    "\n",
    "plt.savefig(fname=(plotfile + \"\\\\level_dist_\" + nickname + \".png\"))"
   ]
  },
  {
   "cell_type": "code",
   "execution_count": 61,
   "metadata": {},
   "outputs": [
    {
     "name": "stdout",
     "output_type": "stream",
     "text": [
      "VAC Bans: 332 , Comm. Bans: 28 , Econ. Bans 0\n"
     ]
    }
   ],
   "source": [
    "#Ban Info\n",
    "vac_bans = len([1 for u in g.vs[\"vacbanned\"] if u == True])\n",
    "community_bans = len([1 for u in g.vs[\"communitybanned\"] if u == True])\n",
    "economyban = len([1 for u in g.vs[\"economyban\"] if u == True])\n",
    "\n",
    "print(\"VAC Bans: {}\".format(vac_bans), \", Comm. Bans: {}\".format(community_bans), \", Econ. Bans {}\".format(economyban))"
   ]
  },
  {
   "cell_type": "code",
   "execution_count": 62,
   "metadata": {},
   "outputs": [
    {
     "name": "stdout",
     "output_type": "stream",
     "text": [
      "Max: 4419, Min: 0, Mean: 27.931317838964862, Median: 10, Mode: 0, Range: (0, 4419)\n"
     ]
    },
    {
     "data": {
      "image/png": "[encoded data removed]",
      "text/plain": [
       "<Figure size 360x360 with 1 Axes>"
      ]
     },
     "metadata": {
      "needs_background": "light"
     },
     "output_type": "display_data"
    }
   ],
   "source": [
    "#Distribution Of Num. Groups\n",
    "\n",
    "number_of_groups = [len(f) for f in g.vs[\"groups\"] if f != None]\n",
    "\n",
    "mx = max(number_of_groups)\n",
    "mn = min(number_of_groups)\n",
    "mean = sum(number_of_groups) / len(number_of_groups)\n",
    "median = statistics.median(number_of_groups)\n",
    "mode = statistics.mode(number_of_groups)\n",
    "range = (mn, mx)\n",
    "print(\"Max: {}, Min: {}, Mean: {}, Median: {}, Mode: {}, Range: {}\".format(mx, mn, mean, median, mode, range))\n",
    "\n",
    "sns.displot(number_of_groups, kde=True)\n",
    "m1 = plt.axvline(mean, color=\"blue\", linestyle='--' ,label=\"Mean: {}\".format(round(mean, 3)), linewidth=0)\n",
    "m2 = plt.axvline(mode, color=\"green\", linestyle='-.' ,label=\"Mode: {}\".format(mode), linewidth=0)\n",
    "m3 = plt.axvline(median, color=\"purple\", linestyle=':' ,label=\"Median: {}\".format(int(median)), linewidth=0)\n",
    "\n",
    "plt.xlabel(\"Number of Groups\")\n",
    "plt.title(\"Dist. of Groups\")\n",
    "plt.margins(0.01)\n",
    "plt.ylim(0,number_of_groups.count(mode) + 50)\n",
    "plt.legend(loc=0)\n",
    "\n",
    "plt.savefig(fname=(plotfile + \"\\\\group_dist_\" + nickname + \".png\"))"
   ]
  },
  {
   "cell_type": "code",
   "execution_count": 63,
   "metadata": {},
   "outputs": [
    {
     "name": "stdout",
     "output_type": "stream",
     "text": [
      "Created plot\n"
     ]
    }
   ],
   "source": [
    "#Show Cheaters\n",
    "\n",
    "color_dict = {True: \"red\", False: \"royalblue\", None: \"grey\"}\n",
    "\n",
    "att = {\n",
    "    'bbox': k4,\n",
    "    'target': (plotfile + \"\\\\show_cheaters_\" + nickname + \".png\"),\n",
    "    'edge_with': 1,\n",
    "    'edge_color': 'grey',\n",
    "    'vertex_size': 20,\n",
    "    'vertex_color': [color_dict[v] for v in g.vs[\"vacbanned\"]],\n",
    "}\n",
    "ig.plot(g, layout=g_layout, **att)\n",
    "print(\"Created plot\")"
   ]
  },
  {
   "cell_type": "code",
   "execution_count": 65,
   "metadata": {},
   "outputs": [
    {
     "name": "stdout",
     "output_type": "stream",
     "text": [
      "1996\n",
      "Created a cheater graph with 2132 nodes and 15464 edges!\n",
      "Created plot\n"
     ]
    }
   ],
   "source": [
    "#Show Cheaters Graph with friends\n",
    "\n",
    "color_dict = {True: \"red\", False: \"royalblue\", None: \"grey\"}\n",
    "\n",
    "cheater_graph_ig = ig.Graph.from_networkx(cheater_graph)\n",
    "\n",
    "cheater_friend_count = [len(v) for v in cheater_graph_ig.vs[\"friends\"]]\n",
    "print(max(cheater_friend_count))\n",
    "print(\"Created a cheater graph with {} nodes and {} edges!\".format(cheater_graph.number_of_nodes(), cheater_graph.number_of_edges()))\n",
    "att = {\n",
    "    'bbox': k4,\n",
    "    'target': (plotfile + \"\\\\cheaters_plot_\" + nickname + \".png\"),\n",
    "    'edge_with': .1,\n",
    "    'edge_color': 'grey',\n",
    "    'vertex_size': 20,\n",
    "    'vertex_color': [color_dict[v] for v in cheater_graph_ig.vs[\"vacbanned\"]],\n",
    "}\n",
    "ig.plot(cheater_graph_ig, layout=\"auto\", **att)\n",
    "print(\"Created plot\")"
   ]
  },
  {
   "cell_type": "code",
   "execution_count": 66,
   "metadata": {},
   "outputs": [
    {
     "name": "stdout",
     "output_type": "stream",
     "text": [
      "Created a cheater graph with 332 nodes and 27 edges!\n",
      "Created plot\n"
     ]
    }
   ],
   "source": [
    "#Show Cheaters Graph just cheaters\n",
    "\n",
    "vaced_players = [u for u in users if users[u].vacbanned == True]\n",
    "just_cheater_graph = G.subgraph(nodes=vaced_players)\n",
    "\n",
    "just_cheater_graph_ig = ig.Graph.from_networkx(just_cheater_graph)\n",
    "print(\"Created a cheater graph with {} nodes and {} edges!\".format(just_cheater_graph.number_of_nodes(), just_cheater_graph.number_of_edges()))\n",
    "att = {\n",
    "    'bbox': k4,\n",
    "    'target': (plotfile + \"just_cheaters_plot_\" + nickname + \".png\"),\n",
    "    'edge_with': .1,\n",
    "    'edge_color': 'grey',\n",
    "    'vertex_size': 20,\n",
    "    'vertex_color': [color_dict[v] for v in just_cheater_graph_ig.vs[\"vacbanned\"]],\n",
    "}\n",
    "ig.plot(just_cheater_graph_ig, layout=\"lgl\", **att)\n",
    "print(\"Created plot\")"
   ]
  },
  {
   "cell_type": "code",
   "execution_count": 67,
   "metadata": {},
   "outputs": [],
   "source": [
    "# Create pandas df from user data\n",
    "\n",
    "import pandas as pd\n",
    "data = pd.DataFrame.from_dict(users, orient='index')"
   ]
  },
  {
   "cell_type": "code",
   "execution_count": 68,
   "metadata": {},
   "outputs": [],
   "source": [
    "def LEN(x):\n",
    "    try:\n",
    "        return len(x)\n",
    "    except:\n",
    "        return 0\n",
    "\n",
    "data[\"friends_count\"] = data[\"friends\"].apply(LEN)\n"
   ]
  },
  {
   "cell_type": "code",
   "execution_count": 153,
   "metadata": {},
   "outputs": [
    {
     "data": {
      "text/html": [
       "<div>\n",
       "<style scoped>\n",
       "    .dataframe tbody tr th:only-of-type {\n",
       "        vertical-align: middle;\n",
       "    }\n",
       "\n",
       "    .dataframe tbody tr th {\n",
       "        vertical-align: top;\n",
       "    }\n",
       "\n",
       "    .dataframe thead th {\n",
       "        text-align: right;\n",
       "    }\n",
       "</style>\n",
       "<table border=\"1\" class=\"dataframe\">\n",
       "  <thead>\n",
       "    <tr style=\"text-align: right;\">\n",
       "      <th></th>\n",
       "      <th>steamID</th>\n",
       "      <th>personaname</th>\n",
       "      <th>profileurl</th>\n",
       "      <th>avatar</th>\n",
       "      <th>avatarmedium</th>\n",
       "      <th>avatarfull</th>\n",
       "      <th>personstate</th>\n",
       "      <th>communityvisibilitystate</th>\n",
       "      <th>profilestate</th>\n",
       "      <th>lastlogoff</th>\n",
       "      <th>...</th>\n",
       "      <th>level</th>\n",
       "      <th>playerxp</th>\n",
       "      <th>communitybanned</th>\n",
       "      <th>vacbanned</th>\n",
       "      <th>numberofvacbans</th>\n",
       "      <th>dayssincelastban</th>\n",
       "      <th>numberofgamebans</th>\n",
       "      <th>economyban</th>\n",
       "      <th>badges</th>\n",
       "      <th>friends_count</th>\n",
       "    </tr>\n",
       "  </thead>\n",
       "  <tbody>\n",
       "    <tr>\n",
       "      <th>76561198181797235</th>\n",
       "      <td>76561198181797235</td>\n",
       "      <td>Adoufi</td>\n",
       "      <td>https://steamcommunity.com/id/dsfarfgergeg/</td>\n",
       "      <td>https://steamcdn-a.akamaihd.net/steamcommunity...</td>\n",
       "      <td>https://steamcdn-a.akamaihd.net/steamcommunity...</td>\n",
       "      <td>https://steamcdn-a.akamaihd.net/steamcommunity...</td>\n",
       "      <td>None</td>\n",
       "      <td>3.0</td>\n",
       "      <td>1.0</td>\n",
       "      <td>None</td>\n",
       "      <td>...</td>\n",
       "      <td>5.0</td>\n",
       "      <td>None</td>\n",
       "      <td>False</td>\n",
       "      <td>False</td>\n",
       "      <td>0.0</td>\n",
       "      <td>0.0</td>\n",
       "      <td>0.0</td>\n",
       "      <td>none</td>\n",
       "      <td>[{'badgeid': 13, 'level': 3, 'completion_time'...</td>\n",
       "      <td>5</td>\n",
       "    </tr>\n",
       "    <tr>\n",
       "      <th>76561197960289727</th>\n",
       "      <td>76561197960289727</td>\n",
       "      <td>I CAME HERE TO FUCK</td>\n",
       "      <td>https://steamcommunity.com/id/kalleblomkal/</td>\n",
       "      <td>https://steamcdn-a.akamaihd.net/steamcommunity...</td>\n",
       "      <td>https://steamcdn-a.akamaihd.net/steamcommunity...</td>\n",
       "      <td>https://steamcdn-a.akamaihd.net/steamcommunity...</td>\n",
       "      <td>None</td>\n",
       "      <td>2.0</td>\n",
       "      <td>1.0</td>\n",
       "      <td>None</td>\n",
       "      <td>...</td>\n",
       "      <td>NaN</td>\n",
       "      <td>None</td>\n",
       "      <td>False</td>\n",
       "      <td>False</td>\n",
       "      <td>0.0</td>\n",
       "      <td>0.0</td>\n",
       "      <td>0.0</td>\n",
       "      <td>none</td>\n",
       "      <td>None</td>\n",
       "      <td>0</td>\n",
       "    </tr>\n",
       "    <tr>\n",
       "      <th>76561198114208981</th>\n",
       "      <td>76561198114208981</td>\n",
       "      <td>A.Qubaia</td>\n",
       "      <td>https://steamcommunity.com/profiles/7656119811...</td>\n",
       "      <td>https://steamcdn-a.akamaihd.net/steamcommunity...</td>\n",
       "      <td>https://steamcdn-a.akamaihd.net/steamcommunity...</td>\n",
       "      <td>https://steamcdn-a.akamaihd.net/steamcommunity...</td>\n",
       "      <td>None</td>\n",
       "      <td>3.0</td>\n",
       "      <td>1.0</td>\n",
       "      <td>None</td>\n",
       "      <td>...</td>\n",
       "      <td>6.0</td>\n",
       "      <td>None</td>\n",
       "      <td>False</td>\n",
       "      <td>False</td>\n",
       "      <td>0.0</td>\n",
       "      <td>0.0</td>\n",
       "      <td>0.0</td>\n",
       "      <td>none</td>\n",
       "      <td>[{'badgeid': 13, 'level': 4, 'completion_time'...</td>\n",
       "      <td>14</td>\n",
       "    </tr>\n",
       "    <tr>\n",
       "      <th>76561198387916507</th>\n",
       "      <td>76561198387916507</td>\n",
       "      <td>többevillknulla</td>\n",
       "      <td>https://steamcommunity.com/profiles/7656119838...</td>\n",
       "      <td>https://steamcdn-a.akamaihd.net/steamcommunity...</td>\n",
       "      <td>https://steamcdn-a.akamaihd.net/steamcommunity...</td>\n",
       "      <td>https://steamcdn-a.akamaihd.net/steamcommunity...</td>\n",
       "      <td>None</td>\n",
       "      <td>3.0</td>\n",
       "      <td>1.0</td>\n",
       "      <td>None</td>\n",
       "      <td>...</td>\n",
       "      <td>10.0</td>\n",
       "      <td>None</td>\n",
       "      <td>False</td>\n",
       "      <td>False</td>\n",
       "      <td>0.0</td>\n",
       "      <td>0.0</td>\n",
       "      <td>0.0</td>\n",
       "      <td>none</td>\n",
       "      <td>[{'badgeid': 13, 'level': 44, 'completion_time...</td>\n",
       "      <td>42</td>\n",
       "    </tr>\n",
       "    <tr>\n",
       "      <th>76561198983307510</th>\n",
       "      <td>76561198983307510</td>\n",
       "      <td>gamer123</td>\n",
       "      <td>https://steamcommunity.com/profiles/7656119898...</td>\n",
       "      <td>https://steamcdn-a.akamaihd.net/steamcommunity...</td>\n",
       "      <td>https://steamcdn-a.akamaihd.net/steamcommunity...</td>\n",
       "      <td>https://steamcdn-a.akamaihd.net/steamcommunity...</td>\n",
       "      <td>None</td>\n",
       "      <td>3.0</td>\n",
       "      <td>1.0</td>\n",
       "      <td>None</td>\n",
       "      <td>...</td>\n",
       "      <td>9.0</td>\n",
       "      <td>None</td>\n",
       "      <td>True</td>\n",
       "      <td>True</td>\n",
       "      <td>1.0</td>\n",
       "      <td>475.0</td>\n",
       "      <td>0.0</td>\n",
       "      <td>none</td>\n",
       "      <td>[{'badgeid': 2, 'level': 3, 'completion_time':...</td>\n",
       "      <td>101</td>\n",
       "    </tr>\n",
       "    <tr>\n",
       "      <th>...</th>\n",
       "      <td>...</td>\n",
       "      <td>...</td>\n",
       "      <td>...</td>\n",
       "      <td>...</td>\n",
       "      <td>...</td>\n",
       "      <td>...</td>\n",
       "      <td>...</td>\n",
       "      <td>...</td>\n",
       "      <td>...</td>\n",
       "      <td>...</td>\n",
       "      <td>...</td>\n",
       "      <td>...</td>\n",
       "      <td>...</td>\n",
       "      <td>...</td>\n",
       "      <td>...</td>\n",
       "      <td>...</td>\n",
       "      <td>...</td>\n",
       "      <td>...</td>\n",
       "      <td>...</td>\n",
       "      <td>...</td>\n",
       "      <td>...</td>\n",
       "    </tr>\n",
       "    <tr>\n",
       "      <th>76561198310540785</th>\n",
       "      <td>76561198310540785</td>\n",
       "      <td>survivaL</td>\n",
       "      <td>https://steamcommunity.com/id/4iri4ka/</td>\n",
       "      <td>https://steamcdn-a.akamaihd.net/steamcommunity...</td>\n",
       "      <td>https://steamcdn-a.akamaihd.net/steamcommunity...</td>\n",
       "      <td>https://steamcdn-a.akamaihd.net/steamcommunity...</td>\n",
       "      <td>None</td>\n",
       "      <td>3.0</td>\n",
       "      <td>1.0</td>\n",
       "      <td>None</td>\n",
       "      <td>...</td>\n",
       "      <td>5.0</td>\n",
       "      <td>None</td>\n",
       "      <td>False</td>\n",
       "      <td>False</td>\n",
       "      <td>0.0</td>\n",
       "      <td>0.0</td>\n",
       "      <td>0.0</td>\n",
       "      <td>none</td>\n",
       "      <td>[{'badgeid': 13, 'level': 4, 'completion_time'...</td>\n",
       "      <td>40</td>\n",
       "    </tr>\n",
       "    <tr>\n",
       "      <th>76561198126181520</th>\n",
       "      <td>76561198126181520</td>\n",
       "      <td>Fisher51</td>\n",
       "      <td>https://steamcommunity.com/profiles/7656119812...</td>\n",
       "      <td>https://steamcdn-a.akamaihd.net/steamcommunity...</td>\n",
       "      <td>https://steamcdn-a.akamaihd.net/steamcommunity...</td>\n",
       "      <td>https://steamcdn-a.akamaihd.net/steamcommunity...</td>\n",
       "      <td>None</td>\n",
       "      <td>3.0</td>\n",
       "      <td>1.0</td>\n",
       "      <td>None</td>\n",
       "      <td>...</td>\n",
       "      <td>13.0</td>\n",
       "      <td>None</td>\n",
       "      <td>False</td>\n",
       "      <td>False</td>\n",
       "      <td>0.0</td>\n",
       "      <td>0.0</td>\n",
       "      <td>0.0</td>\n",
       "      <td>none</td>\n",
       "      <td>[{'badgeid': 13, 'level': 21, 'completion_time...</td>\n",
       "      <td>84</td>\n",
       "    </tr>\n",
       "    <tr>\n",
       "      <th>76561198301968375</th>\n",
       "      <td>76561198301968375</td>\n",
       "      <td>Ramon</td>\n",
       "      <td>https://steamcommunity.com/profiles/7656119830...</td>\n",
       "      <td>https://steamcdn-a.akamaihd.net/steamcommunity...</td>\n",
       "      <td>https://steamcdn-a.akamaihd.net/steamcommunity...</td>\n",
       "      <td>https://steamcdn-a.akamaihd.net/steamcommunity...</td>\n",
       "      <td>None</td>\n",
       "      <td>3.0</td>\n",
       "      <td>1.0</td>\n",
       "      <td>None</td>\n",
       "      <td>...</td>\n",
       "      <td>2.0</td>\n",
       "      <td>None</td>\n",
       "      <td>None</td>\n",
       "      <td>None</td>\n",
       "      <td>NaN</td>\n",
       "      <td>NaN</td>\n",
       "      <td>NaN</td>\n",
       "      <td>None</td>\n",
       "      <td>[{'badgeid': 1, 'level': 5, 'completion_time':...</td>\n",
       "      <td>113</td>\n",
       "    </tr>\n",
       "    <tr>\n",
       "      <th>76561198305976777</th>\n",
       "      <td>76561198305976777</td>\n",
       "      <td>G.I Jorge</td>\n",
       "      <td>https://steamcommunity.com/profiles/7656119830...</td>\n",
       "      <td>https://steamcdn-a.akamaihd.net/steamcommunity...</td>\n",
       "      <td>https://steamcdn-a.akamaihd.net/steamcommunity...</td>\n",
       "      <td>https://steamcdn-a.akamaihd.net/steamcommunity...</td>\n",
       "      <td>None</td>\n",
       "      <td>3.0</td>\n",
       "      <td>1.0</td>\n",
       "      <td>None</td>\n",
       "      <td>...</td>\n",
       "      <td>6.0</td>\n",
       "      <td>None</td>\n",
       "      <td>False</td>\n",
       "      <td>False</td>\n",
       "      <td>0.0</td>\n",
       "      <td>0.0</td>\n",
       "      <td>0.0</td>\n",
       "      <td>none</td>\n",
       "      <td>[{'badgeid': 13, 'level': 4, 'completion_time'...</td>\n",
       "      <td>159</td>\n",
       "    </tr>\n",
       "    <tr>\n",
       "      <th>76561198801849681</th>\n",
       "      <td>76561198801849681</td>\n",
       "      <td>Garbage</td>\n",
       "      <td>https://steamcommunity.com/id/pringlesorlays/</td>\n",
       "      <td>https://steamcdn-a.akamaihd.net/steamcommunity...</td>\n",
       "      <td>https://steamcdn-a.akamaihd.net/steamcommunity...</td>\n",
       "      <td>https://steamcdn-a.akamaihd.net/steamcommunity...</td>\n",
       "      <td>None</td>\n",
       "      <td>3.0</td>\n",
       "      <td>1.0</td>\n",
       "      <td>None</td>\n",
       "      <td>...</td>\n",
       "      <td>11.0</td>\n",
       "      <td>None</td>\n",
       "      <td>False</td>\n",
       "      <td>False</td>\n",
       "      <td>0.0</td>\n",
       "      <td>0.0</td>\n",
       "      <td>0.0</td>\n",
       "      <td>none</td>\n",
       "      <td>[{'badgeid': 13, 'level': 75, 'completion_time...</td>\n",
       "      <td>44</td>\n",
       "    </tr>\n",
       "  </tbody>\n",
       "</table>\n",
       "<p>11248 rows × 37 columns</p>\n",
       "</div>"
      ],
      "text/plain": [
       "                             steamID          personaname  \\\n",
       "76561198181797235  76561198181797235               Adoufi   \n",
       "76561197960289727  76561197960289727  I CAME HERE TO FUCK   \n",
       "76561198114208981  76561198114208981             A.Qubaia   \n",
       "76561198387916507  76561198387916507      többevillknulla   \n",
       "76561198983307510  76561198983307510             gamer123   \n",
       "...                              ...                  ...   \n",
       "76561198310540785  76561198310540785             survivaL   \n",
       "76561198126181520  76561198126181520             Fisher51   \n",
       "76561198301968375  76561198301968375                Ramon   \n",
       "76561198305976777  76561198305976777            G.I Jorge   \n",
       "76561198801849681  76561198801849681              Garbage   \n",
       "\n",
       "                                                          profileurl  \\\n",
       "76561198181797235        https://steamcommunity.com/id/dsfarfgergeg/   \n",
       "76561197960289727        https://steamcommunity.com/id/kalleblomkal/   \n",
       "76561198114208981  https://steamcommunity.com/profiles/7656119811...   \n",
       "76561198387916507  https://steamcommunity.com/profiles/7656119838...   \n",
       "76561198983307510  https://steamcommunity.com/profiles/7656119898...   \n",
       "...                                                              ...   \n",
       "76561198310540785             https://steamcommunity.com/id/4iri4ka/   \n",
       "76561198126181520  https://steamcommunity.com/profiles/7656119812...   \n",
       "76561198301968375  https://steamcommunity.com/profiles/7656119830...   \n",
       "76561198305976777  https://steamcommunity.com/profiles/7656119830...   \n",
       "76561198801849681      https://steamcommunity.com/id/pringlesorlays/   \n",
       "\n",
       "                                                              avatar  \\\n",
       "76561198181797235  https://steamcdn-a.akamaihd.net/steamcommunity...   \n",
       "76561197960289727  https://steamcdn-a.akamaihd.net/steamcommunity...   \n",
       "76561198114208981  https://steamcdn-a.akamaihd.net/steamcommunity...   \n",
       "76561198387916507  https://steamcdn-a.akamaihd.net/steamcommunity...   \n",
       "76561198983307510  https://steamcdn-a.akamaihd.net/steamcommunity...   \n",
       "...                                                              ...   \n",
       "76561198310540785  https://steamcdn-a.akamaihd.net/steamcommunity...   \n",
       "76561198126181520  https://steamcdn-a.akamaihd.net/steamcommunity...   \n",
       "76561198301968375  https://steamcdn-a.akamaihd.net/steamcommunity...   \n",
       "76561198305976777  https://steamcdn-a.akamaihd.net/steamcommunity...   \n",
       "76561198801849681  https://steamcdn-a.akamaihd.net/steamcommunity...   \n",
       "\n",
       "                                                        avatarmedium  \\\n",
       "76561198181797235  https://steamcdn-a.akamaihd.net/steamcommunity...   \n",
       "76561197960289727  https://steamcdn-a.akamaihd.net/steamcommunity...   \n",
       "76561198114208981  https://steamcdn-a.akamaihd.net/steamcommunity...   \n",
       "76561198387916507  https://steamcdn-a.akamaihd.net/steamcommunity...   \n",
       "76561198983307510  https://steamcdn-a.akamaihd.net/steamcommunity...   \n",
       "...                                                              ...   \n",
       "76561198310540785  https://steamcdn-a.akamaihd.net/steamcommunity...   \n",
       "76561198126181520  https://steamcdn-a.akamaihd.net/steamcommunity...   \n",
       "76561198301968375  https://steamcdn-a.akamaihd.net/steamcommunity...   \n",
       "76561198305976777  https://steamcdn-a.akamaihd.net/steamcommunity...   \n",
       "76561198801849681  https://steamcdn-a.akamaihd.net/steamcommunity...   \n",
       "\n",
       "                                                          avatarfull  \\\n",
       "76561198181797235  https://steamcdn-a.akamaihd.net/steamcommunity...   \n",
       "76561197960289727  https://steamcdn-a.akamaihd.net/steamcommunity...   \n",
       "76561198114208981  https://steamcdn-a.akamaihd.net/steamcommunity...   \n",
       "76561198387916507  https://steamcdn-a.akamaihd.net/steamcommunity...   \n",
       "76561198983307510  https://steamcdn-a.akamaihd.net/steamcommunity...   \n",
       "...                                                              ...   \n",
       "76561198310540785  https://steamcdn-a.akamaihd.net/steamcommunity...   \n",
       "76561198126181520  https://steamcdn-a.akamaihd.net/steamcommunity...   \n",
       "76561198301968375  https://steamcdn-a.akamaihd.net/steamcommunity...   \n",
       "76561198305976777  https://steamcdn-a.akamaihd.net/steamcommunity...   \n",
       "76561198801849681  https://steamcdn-a.akamaihd.net/steamcommunity...   \n",
       "\n",
       "                  personstate  communityvisibilitystate  profilestate  \\\n",
       "76561198181797235        None                       3.0           1.0   \n",
       "76561197960289727        None                       2.0           1.0   \n",
       "76561198114208981        None                       3.0           1.0   \n",
       "76561198387916507        None                       3.0           1.0   \n",
       "76561198983307510        None                       3.0           1.0   \n",
       "...                       ...                       ...           ...   \n",
       "76561198310540785        None                       3.0           1.0   \n",
       "76561198126181520        None                       3.0           1.0   \n",
       "76561198301968375        None                       3.0           1.0   \n",
       "76561198305976777        None                       3.0           1.0   \n",
       "76561198801849681        None                       3.0           1.0   \n",
       "\n",
       "                  lastlogoff  ...  level playerxp communitybanned  vacbanned  \\\n",
       "76561198181797235       None  ...    5.0     None           False      False   \n",
       "76561197960289727       None  ...    NaN     None           False      False   \n",
       "76561198114208981       None  ...    6.0     None           False      False   \n",
       "76561198387916507       None  ...   10.0     None           False      False   \n",
       "76561198983307510       None  ...    9.0     None            True       True   \n",
       "...                      ...  ...    ...      ...             ...        ...   \n",
       "76561198310540785       None  ...    5.0     None           False      False   \n",
       "76561198126181520       None  ...   13.0     None           False      False   \n",
       "76561198301968375       None  ...    2.0     None            None       None   \n",
       "76561198305976777       None  ...    6.0     None           False      False   \n",
       "76561198801849681       None  ...   11.0     None           False      False   \n",
       "\n",
       "                  numberofvacbans dayssincelastban numberofgamebans  \\\n",
       "76561198181797235             0.0              0.0              0.0   \n",
       "76561197960289727             0.0              0.0              0.0   \n",
       "76561198114208981             0.0              0.0              0.0   \n",
       "76561198387916507             0.0              0.0              0.0   \n",
       "76561198983307510             1.0            475.0              0.0   \n",
       "...                           ...              ...              ...   \n",
       "76561198310540785             0.0              0.0              0.0   \n",
       "76561198126181520             0.0              0.0              0.0   \n",
       "76561198301968375             NaN              NaN              NaN   \n",
       "76561198305976777             0.0              0.0              0.0   \n",
       "76561198801849681             0.0              0.0              0.0   \n",
       "\n",
       "                  economyban  \\\n",
       "76561198181797235       none   \n",
       "76561197960289727       none   \n",
       "76561198114208981       none   \n",
       "76561198387916507       none   \n",
       "76561198983307510       none   \n",
       "...                      ...   \n",
       "76561198310540785       none   \n",
       "76561198126181520       none   \n",
       "76561198301968375       None   \n",
       "76561198305976777       none   \n",
       "76561198801849681       none   \n",
       "\n",
       "                                                              badges  \\\n",
       "76561198181797235  [{'badgeid': 13, 'level': 3, 'completion_time'...   \n",
       "76561197960289727                                               None   \n",
       "76561198114208981  [{'badgeid': 13, 'level': 4, 'completion_time'...   \n",
       "76561198387916507  [{'badgeid': 13, 'level': 44, 'completion_time...   \n",
       "76561198983307510  [{'badgeid': 2, 'level': 3, 'completion_time':...   \n",
       "...                                                              ...   \n",
       "76561198310540785  [{'badgeid': 13, 'level': 4, 'completion_time'...   \n",
       "76561198126181520  [{'badgeid': 13, 'level': 21, 'completion_time...   \n",
       "76561198301968375  [{'badgeid': 1, 'level': 5, 'completion_time':...   \n",
       "76561198305976777  [{'badgeid': 13, 'level': 4, 'completion_time'...   \n",
       "76561198801849681  [{'badgeid': 13, 'level': 75, 'completion_time...   \n",
       "\n",
       "                  friends_count  \n",
       "76561198181797235             5  \n",
       "76561197960289727             0  \n",
       "76561198114208981            14  \n",
       "76561198387916507            42  \n",
       "76561198983307510           101  \n",
       "...                         ...  \n",
       "76561198310540785            40  \n",
       "76561198126181520            84  \n",
       "76561198301968375           113  \n",
       "76561198305976777           159  \n",
       "76561198801849681            44  \n",
       "\n",
       "[11248 rows x 37 columns]"
      ]
     },
     "execution_count": 153,
     "metadata": {},
     "output_type": "execute_result"
    }
   ],
   "source": [
    "data"
   ]
  },
  {
   "cell_type": "code",
   "execution_count": 156,
   "metadata": {},
   "outputs": [
    {
     "data": {
      "image/png": "[encoded data removed]",
      "text/plain": [
       "<Figure size 432x288 with 1 Axes>"
      ]
     },
     "metadata": {
      "needs_background": "light"
     },
     "output_type": "display_data"
    }
   ],
   "source": [
    "p = sns.regplot(x=data[\"timecreated\"], y=data[\"friends_count\"])"
   ]
  },
  {
   "cell_type": "code",
   "execution_count": 157,
   "metadata": {},
   "outputs": [
    {
     "data": {
      "text/plain": [
       "-0.20558173589432263"
      ]
     },
     "execution_count": 157,
     "metadata": {},
     "output_type": "execute_result"
    }
   ],
   "source": [
    "statistics.correlation([v or 0 for v in g.vs[\"timecreated\"]], [len(v or []) for v in g.vs[\"friends\"]])"
   ]
  },
  {
   "cell_type": "code",
   "execution_count": 69,
   "metadata": {},
   "outputs": [
    {
     "name": "stderr",
     "output_type": "stream",
     "text": [
      "C:\\Python310\\lib\\site-packages\\seaborn\\distributions.py:2619: FutureWarning: `distplot` is a deprecated function and will be removed in a future version. Please adapt your code to use either `displot` (a figure-level function with similar flexibility) or `histplot` (an axes-level function for histograms).\n",
      "  warnings.warn(msg, FutureWarning)\n"
     ]
    },
    {
     "data": {
      "image/png": "[encoded data removed]",
      "text/plain": [
       "<Figure size 432x288 with 1 Axes>"
      ]
     },
     "metadata": {
      "needs_background": "light"
     },
     "output_type": "display_data"
    }
   ],
   "source": [
    "# Create plot of triangle dist. from our graph\n",
    "\n",
    "sns.distplot(list(nx.triangles(G).values()), kde=True)\n",
    "\n",
    "plt.xlabel(\"Number of Triangles\")\n",
    "plt.title(\"Dist. of Triangles\")\n",
    "\n",
    "plt.savefig(fname=(plotfile + \"triangle_dist_\" + nickname + \".png\"))"
   ]
  },
  {
   "cell_type": "code",
   "execution_count": 82,
   "metadata": {},
   "outputs": [],
   "source": [
    "l = [v for _,v in cheater_graph.degree()]\n",
    "cl = statistics.mean(l)\n",
    "\n",
    "j = [v for _,v in just_cheater_graph.degree()]\n",
    "jcl = statistics.mean(j)\n",
    "\n",
    "lg = [v for _,v in G.degree()]\n",
    "mlg = statistics.mean(lg)"
   ]
  },
  {
   "cell_type": "code",
   "execution_count": null,
   "metadata": {},
   "outputs": [],
   "source": [
    "acg = nx.average_clustering(G)\n",
    "acc = nx.average_clustering(cheater_graph)\n",
    "acjc = nx.average_clustering(just_cheater_graph)"
   ]
  },
  {
   "cell_type": "code",
   "execution_count": 168,
   "metadata": {},
   "outputs": [
    {
     "data": {
      "text/plain": [
       "5.014058213832097e-06"
      ]
     },
     "execution_count": 168,
     "metadata": {},
     "output_type": "execute_result"
    }
   ],
   "source": [
    "d = nx.eigenvector_centrality(G).values()\n",
    "statistics.median(d)"
   ]
  },
  {
   "cell_type": "code",
   "execution_count": null,
   "metadata": {},
   "outputs": [],
   "source": [
    "# Create data summary file\n",
    "e = \"\\n\"\n",
    "data_summary = \\\n",
    "    \"Default Graph -- -- \" + e + \\\n",
    "    \"Created a graph with {} nodes and {} edges!\".format(G.number_of_nodes(), G.number_of_edges()) + e + \\\n",
    "    \"VAC Bans: {}\".format(vac_bans), \", Comm. Bans: {}\".format(community_bans), \", Econ. Bans {}\".format(economyban) + e + \\\n",
    "    \"Avg. Degree : {}\".format(mlg) + e + \\\n",
    "    \"Avg. Clustering : {}\".format(acg) + e*2 + \\\n",
    "    \\\n",
    "    \"Cheater Graph -- -- \" + e + \\\n",
    "    \"Created a cheater graph with {} nodes and {} edges!\".format(cheater_graph.number_of_nodes(), cheater_graph.number_of_edges()) + e + \\\n",
    "    \"Avg. Degree : {}\".format(cl) + e + \\\n",
    "    \"Avg. Clustering : {}\".format(acc) + e*2 + \\\n",
    "    \\\n",
    "    \"Just Cheater Graph -- -- \" + e + \\\n",
    "    \"Created a cheater graph with {} nodes and {} edges!\".format(just_cheater_graph.number_of_nodes(), just_cheater_graph.number_of_edges()) + e + \\\n",
    "    \"Avg. Degree : {}\".format(jcl) + e + \\\n",
    "    \"Avg. Clustering : {}\".format(acjc)\n",
    "\n",
    "\n",
    "with open(plotfile + \"\\\\summary\" + nickname +\".txt\", 'w') as sf:\n",
    "    sf.write(data_summary)\n",
    "    sf.close()\n",
    "\n",
    "\n",
    "data_summary"
   ]
  }
 ],
 "metadata": {
  "interpreter": {
   "hash": "2be5faf79681da6f2a61fdfdd5405d65d042280f7fba6178067603e3a2925119"
  },
  "kernelspec": {
   "display_name": "Python 3.10.2 64-bit",
   "language": "python",
   "name": "python3"
  },
  "language_info": {
   "codemirror_mode": {
    "name": "ipython",
    "version": 3
   },
   "file_extension": ".py",
   "mimetype": "text/x-python",
   "name": "python",
   "nbconvert_exporter": "python",
   "pygments_lexer": "ipython3",
   "version": "3.10.12"
  },
  "orig_nbformat": 4
 },
 "nbformat": 4,
 "nbformat_minor": 2
}
