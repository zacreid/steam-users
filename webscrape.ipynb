{
 "cells": [
  {
   "cell_type": "code",
   "execution_count": 138,
   "metadata": {},
   "outputs": [],
   "source": [
    "%%capture\n",
    "%load_ext autoreload\n",
    "%autoreload 2\n",
    "%pip install beautifulsoup4 requests_html\n",
    "import requests\n",
    "from requests_html import HTMLSession\n",
    "import json\n",
    "import re\n",
    "from bs4 import BeautifulSoup as bs\n",
    "from SteamUser import *\n",
    "import concurrent.futures\n",
    "import time\n",
    "\n",
    "# Via scraping data from a users steam game page, attempt to gather data to get game data"
   ]
  },
  {
   "cell_type": "code",
   "execution_count": 184,
   "metadata": {},
   "outputs": [],
   "source": [
    "all_steam_games = \"https://steamcommunity.com/profiles/{}/games/?tab=all\"\n",
    "\n",
    "session = HTMLSession()"
   ]
  },
  {
   "cell_type": "code",
   "execution_count": null,
   "metadata": {},
   "outputs": [],
   "source": [
    "r = session.get(all_steam_games.format('76561197993345099'))\n",
    "\n",
    "games = re.findall(r'rgGames = .*;', r.text)\n",
    "\n",
    "games = games[0]\n",
    "\n",
    "games = ['{\"appid\"' + g[:-1] for g in re.split('{\"appid\"', re.split('\\]|\\[', games)[1]) if len(g) > 0]\n",
    "\n",
    "if games[-1][-1].isalpha(): games[-1] = games[-1] + '\"'\n",
    "games[-1] = games[-1] + '}'\n",
    "\n",
    "for g in games: print(g, end='\\n\\n\\n')\n",
    "\n",
    "games = [json.loads(g) for g in games]\n",
    "\n",
    "\n",
    "ugames = [g['appid'] for g in games]\n",
    "ugame_count = len(games)\n",
    "uplaytime = [(g['appid'], float(g['hours_forever'].replace(',', ''))) for g in games if g.get('hours_forever') != None]\n",
    "urecent_playtime = [(g['appid'], float(g['hours'].replace(',', ''))) for g in games if g.get('hours') != None]\n",
    "utotal_playtime = sum([float(g['hours_forever'].replace(',', '')) for g in games if g.get('hours_forever') != None])\n",
    "ulast_played = [(g['appid'], g['last_played']) for g in games if g.get('last_played') != None]\n",
    "\n",
    "print(\"Games : \" + str(ugames))\n",
    "print(\"Game Count : \" + str(ugame_count))\n",
    "print(\"Games Playtime : \" + str(uplaytime))\n",
    "print(\"Games Recent Playtime : \" + str(urecent_playtime))\n",
    "print(\"Games Total Playtime: \" + str(utotal_playtime))\n",
    "print(\"Games Last Played: \" + str(ulast_played))"
   ]
  },
  {
   "cell_type": "code",
   "execution_count": 177,
   "metadata": {},
   "outputs": [],
   "source": [
    "def get_users_games(u):\n",
    "    r = session.get(all_steam_games.format(u.steamID))\n",
    "\n",
    "    games = re.findall(r'rgGames = .*;', r.text)\n",
    "\n",
    "    if games != ['rgGames = [];'] and games != []:\n",
    "        games = games[0]\n",
    "\n",
    "        games = ['{\"appid\"' + g[:-1] for g in re.split('{\"appid\"', re.split('\\]|\\[', games)[1]) if len(g) > 0]\n",
    "        if games[-1][-1].isalpha(): games[-1] = games[-1] + '\"'\n",
    "        games[-1] = games[-1] + '}'\n",
    "\n",
    "        try:\n",
    "            games = [json.loads(g) for g in games]\n",
    "        except json.JSONDecodeError:\n",
    "            print(\"Error with user!!! {}\".format(u))\n",
    "\n",
    "        u.games = [g['appid'] for g in games]\n",
    "        u.game_count = len(games)\n",
    "        u.playtime = [(g['appid'], float(g['hours_forever'].replace(',', ''))) for g in games if g.get('hours_forever') != None]\n",
    "        u.recent_playtime = [(g['appid'], float(g['hours'].replace(',', ''))) for g in games if g.get('hours') != None]\n",
    "        u.total_playtime = sum([float(g['hours_forever'].replace(',', '')) for g in games if g.get('hours_forever') != None])\n",
    "        u.last_played = [(g['appid'], g['last_played']) for g in games if g.get('last_played') != None]\n",
    "\n",
    "    time.sleep(1)\n",
    "    \n",
    "    return u"
   ]
  },
  {
   "cell_type": "code",
   "execution_count": 178,
   "metadata": {},
   "outputs": [
    {
     "data": {
      "text/plain": [
       "22130"
      ]
     },
     "execution_count": 178,
     "metadata": {},
     "output_type": "execute_result"
    }
   ],
   "source": [
    "users = {}\n",
    "userslist = []\n",
    "with open(\"users22k.json\", \"r\") as file:\n",
    "    for l in file.readlines():\n",
    "        u = SteamUser.fromdict(json.loads(l))\n",
    "        users[u.steamID] = u\n",
    "    file.close()\n",
    "\n",
    "len(users)"
   ]
  },
  {
   "cell_type": "code",
   "execution_count": 179,
   "metadata": {},
   "outputs": [
    {
     "data": {
      "text/plain": [
       "100"
      ]
     },
     "execution_count": 179,
     "metadata": {},
     "output_type": "execute_result"
    }
   ],
   "source": [
    "uz = list(users.values())\n",
    "sum(u.games == None for u in uz[:100])"
   ]
  },
  {
   "cell_type": "code",
   "execution_count": 185,
   "metadata": {},
   "outputs": [],
   "source": [
    "exe = concurrent.futures.ThreadPoolExecutor(max_workers=1)\n",
    "f = list(exe.map(get_users_games, uz[:100]))\n"
   ]
  },
  {
   "cell_type": "code",
   "execution_count": 186,
   "metadata": {},
   "outputs": [
    {
     "data": {
      "text/plain": [
       "89"
      ]
     },
     "execution_count": 186,
     "metadata": {},
     "output_type": "execute_result"
    }
   ],
   "source": [
    "sum(u.games == None for u in f)"
   ]
  },
  {
   "cell_type": "code",
   "execution_count": 137,
   "metadata": {},
   "outputs": [
    {
     "data": {
      "text/plain": [
       "SteamUser(steamID='76561197970323416', personaname='TomB', profileurl='https://steamcommunity.com/id/tomqbui/', avatar='https://steamcdn-a.akamaihd.net/steamcommunity/public/images/avatars/44/44b73d1999bbe6311426b8202a66121f7e0734dd.jpg', avatarmedium='https://steamcdn-a.akamaihd.net/steamcommunity/public/images/avatars/44/44b73d1999bbe6311426b8202a66121f7e0734dd_medium.jpg', avatarfull='https://steamcdn-a.akamaihd.net/steamcommunity/public/images/avatars/44/44b73d1999bbe6311426b8202a66121f7e0734dd_full.jpg', personstate=None, communityvisibilitystate=3, profilestate=1, lastlogoff=None, commentpermission=None, realname='Tom Bui', primaryclanid='103582791429521412', timecreated=1100586952, gameid=None, cityid=None, loccountrycode=None, locstatecode=None, loccityid=None, friends=['76561197960265738', '76561197960265740', '76561197960265749', '76561197960269040', '76561197960276281', '76561197960279927', '76561197960402283', '76561197960405535', '76561197960423941', '76561197960434622', '76561197960435530', '76561197960453277', '76561197960549564', '76561197960563532', '76561197960649750', '76561197960794555', '76561197960860649', '76561197960951084', '76561197961078192', '76561197961121342', '76561197961298542', '76561197961301890', '76561197961786669', '76561197961963491', '76561197962090766', '76561197962146232', '76561197962205142', '76561197962783665', '76561197963707400', '76561197964102120', '76561197964217171', '76561197964279229', '76561197964770089', '76561197965193428', '76561197965686610', '76561197966737704', '76561197967990561', '76561197968282875', '76561197968452293', '76561197968459473', '76561197968609992', '76561197968694404', '76561197968729431', '76561197968801693', '76561197969266938', '76561197969308509', '76561197969321754', '76561197969362860', '76561197969363440', '76561197969512267', '76561197969518075', '76561197969854208', '76561197970267259', '76561197970280218', '76561197970389205', '76561197970404169', '76561197970513249', '76561197970530062', '76561197970551887', '76561197970556333', '76561197970565175', '76561197970566887', '76561197970678389', '76561197970714607', '76561197970714660', '76561197970892150', '76561197970892634', '76561197971089284', '76561197971205907', '76561197972118381', '76561197972494985', '76561197972495328', '76561197973665403', '76561197974593417', '76561197974907534', '76561197975213119', '76561197977169447', '76561197977781262', '76561197978236369', '76561197978266558', '76561197978556511', '76561197979187556', '76561197979253178', '76561197980258575', '76561197980865448', '76561197981890334', '76561197982056909', '76561197983120735', '76561197985141624', '76561197985454791', '76561197985742594', '76561197985771206', '76561197987090062', '76561197988525039', '76561197989577350', '76561197989808853', '76561197991348132', '76561197991390878', '76561197991751968', '76561197991899002', '76561197992219796', '76561197992594628', '76561197992681877', '76561197992807042', '76561197993020698', '76561197993032363', '76561197993060890', '76561197993212095', '76561197993229897', '76561197993273579', '76561197993329385', '76561197993358976', '76561197993580498', '76561197993921814', '76561197993991402', '76561197994632741', '76561197995390971', '76561197995557785', '76561197996972724', '76561197997076043', '76561197997296694', '76561197997728531', '76561197998334705', '76561197998336849', '76561197998511283', '76561197998829559', '76561197999947986', '76561198000175595', '76561198000302127', '76561198000613142', '76561198000778598', '76561198000928595', '76561198001682160', '76561198002642444', '76561198003122895', '76561198005763613', '76561198007146377', '76561198007564658', '76561198008486962', '76561198009095613', '76561198009133100', '76561198009308229', '76561198009548989', '76561198010062752', '76561198011361633', '76561198011464820', '76561198011881610', '76561198012034243', '76561198012103442', '76561198015088262', '76561198015158492', '76561198015234450', '76561198018064800', '76561198022184697', '76561198024402255', '76561198025468274', '76561198027391269', '76561198028573551', '76561198032364499', '76561198035001517', '76561198037252562', '76561198038287343', '76561198040900440', '76561198043057916', '76561198046744887', '76561198050431321', '76561198053398526', '76561198057192799', '76561198059223364', '76561198065638089', '76561198071493110', '76561198072442430', '76561198074886699', '76561198078024435', '76561198080742993', '76561198085177245', '76561198118450518', '76561198264031608', '76561198354244005', '76561199040187169'], games=None, game_count=None, playtime=None, recent_playtime=None, total_playtime=None, groups=['4', '1850', '554111', '814647', '1848288', '2667495', '3176382', '3284297', '3381077', '3703047', '3925757', '3949340', '3952586', '3953741', '3955084', '4009259', '4056139', '4145017', '4178173', '4178407', '4196775', '4216861', '4312225', '4397053', '4454796', '4547727', '4597623', '4755837', '5032781', '5115552', '5149409', '5151157', '5274870', '6178230', '6281279', '6521993', '7296279', '8061991', '8850183', '9036491', '9068214', '9111322', '9114882', '9229973', '25293420', '28147957', '28361337', '30844740', '32352494', '35143931'], level=56, playerxp=None, communitybanned=False, vacbanned=False, numberofvacbans=0, dayssincelastban=0, numberofgamebans=0, economyban='none', badges=[{'badgeid': 13, 'level': 367, 'completion_time': 1647474304, 'xp': 617, 'scarcity': 1444501}, {'badgeid': 11, 'level': 1, 'completion_time': 1645749229, 'xp': 1000, 'scarcity': 565}, {'badgeid': 48, 'level': 27, 'completion_time': 1598310776, 'xp': 270, 'scarcity': 163809}, {'badgeid': 49, 'level': 3, 'completion_time': 1593104464, 'xp': 30, 'scarcity': 2149137}, {'badgeid': 46, 'level': 10, 'completion_time': 1579815797, 'xp': 2500, 'scarcity': 23276}, {'badgeid': 44, 'level': 1, 'completion_time': 1578334972, 'xp': 250, 'scarcity': 1925002}, {'badgeid': 45, 'level': 1, 'completion_time': 1577902291, 'xp': 200, 'scarcity': 463048}, {'badgeid': 38, 'level': 1, 'completion_time': 1562315091, 'xp': 100, 'scarcity': 820315}, {'badgeid': 42, 'level': 1, 'completion_time': 1562314948, 'xp': 100, 'scarcity': 564826}, {'badgeid': 37, 'level': 21, 'completion_time': 1561619077, 'xp': 2100, 'scarcity': 3118419}, {'badgeid': 40, 'level': 1, 'completion_time': 1561482103, 'xp': 100, 'scarcity': 5548464}, {'badgeid': 34, 'level': 10, 'completion_time': 1549499480, 'xp': 4500, 'scarcity': 9704}, {'badgeid': 25, 'level': 3, 'completion_time': 1479931193, 'xp': 75, 'scarcity': 1446949}, {'badgeid': 24, 'level': 1, 'completion_time': 1451427183, 'xp': 100, 'scarcity': 566236}, {'badgeid': 2, 'level': 3, 'completion_time': 1446341640, 'xp': 500, 'scarcity': 8121023}, {'badgeid': 23, 'level': 100000000, 'completion_time': 1434689302, 'xp': 200, 'scarcity': 1434089}, {'badgeid': 21, 'level': 1, 'completion_time': 1418342142, 'xp': 100, 'scarcity': 30398891}, {'badgeid': 18, 'level': 22, 'completion_time': 1404061200, 'xp': 100, 'scarcity': 73777}, {'badgeid': 15, 'level': 2, 'completion_time': 1380146218, 'xp': 150, 'scarcity': 421848}, {'badgeid': 14, 'level': 1, 'completion_time': 1372272918, 'xp': 100, 'scarcity': 1020315}, {'badgeid': 8, 'level': 1, 'completion_time': 1356029841, 'xp': 100, 'scarcity': 741880}, {'badgeid': 7, 'level': 3, 'completion_time': 1342114850, 'xp': 100, 'scarcity': 261763}, {'badgeid': 1, 'level': 17, 'completion_time': 1100586952, 'xp': 850, 'scarcity': 2921817}, {'badgeid': 1, 'appid': 440, 'level': 4, 'completion_time': 1371244811, 'xp': 400, 'communityitemid': '120717', 'border_color': 0, 'scarcity': 328807}, {'badgeid': 1, 'appid': 220, 'level': 1, 'completion_time': 1368742729, 'xp': 100, 'communityitemid': '154780', 'border_color': 0, 'scarcity': 520745}, {'badgeid': 1, 'appid': 620, 'level': 1, 'completion_time': 1368746621, 'xp': 100, 'communityitemid': '176639', 'border_color': 0, 'scarcity': 1047920}, {'badgeid': 1, 'appid': 730, 'level': 1, 'completion_time': 1368746947, 'xp': 100, 'communityitemid': '178300', 'border_color': 0, 'scarcity': 9568200}, {'badgeid': 1, 'appid': 226740, 'level': 1, 'completion_time': 1370985193, 'xp': 100, 'communityitemid': '7934763', 'border_color': 0, 'scarcity': 15573}, {'badgeid': 1, 'appid': 38600, 'level': 1, 'completion_time': 1370985603, 'xp': 100, 'communityitemid': '7936474', 'border_color': 0, 'scarcity': 38784}, {'badgeid': 1, 'appid': 212680, 'level': 1, 'completion_time': 1371058069, 'xp': 100, 'communityitemid': '8144379', 'border_color': 0, 'scarcity': 277077}, {'badgeid': 1, 'appid': 550, 'level': 2, 'completion_time': 1403220004, 'xp': 200, 'communityitemid': '8144737', 'border_color': 0, 'scarcity': 559208}, {'badgeid': 1, 'appid': 35720, 'level': 1, 'completion_time': 1371243917, 'xp': 100, 'communityitemid': '8701907', 'border_color': 0, 'scarcity': 283359}, {'badgeid': 1, 'appid': 113020, 'level': 1, 'completion_time': 1371244115, 'xp': 100, 'communityitemid': '8702673', 'border_color': 0, 'scarcity': 129158}, {'badgeid': 1, 'appid': 92300, 'level': 1, 'completion_time': 1371244322, 'xp': 100, 'communityitemid': '8703276', 'border_color': 0, 'scarcity': 13306}, {'badgeid': 1, 'appid': 209000, 'level': 1, 'completion_time': 1385884380, 'xp': 100, 'communityitemid': '341803458', 'border_color': 0, 'scarcity': 211762}, {'badgeid': 1, 'appid': 245070, 'level': 1, 'completion_time': 1386404525, 'xp': 100, 'communityitemid': '355284499', 'border_color': 0, 'scarcity': 774099}, {'badgeid': 1, 'appid': 267420, 'level': 1, 'completion_time': 1387476262, 'xp': 100, 'communityitemid': '375672081', 'border_color': 0, 'scarcity': 773981}, {'badgeid': 1, 'appid': 267420, 'level': 1, 'completion_time': 1387476307, 'xp': 100, 'communityitemid': '375674765', 'border_color': 1, 'scarcity': 10765}, {'badgeid': 1, 'appid': 303700, 'level': 2, 'completion_time': 1403213631, 'xp': 200, 'communityitemid': '779461055', 'border_color': 0, 'scarcity': 422154}, {'badgeid': 10, 'appid': 368020, 'level': 1, 'completion_time': 1434649354, 'xp': 100, 'communityitemid': '1919375504', 'border_color': 0, 'scarcity': 946921}, {'badgeid': 10, 'appid': 368020, 'level': 1, 'completion_time': 1434649779, 'xp': 100, 'communityitemid': '1919478788', 'border_color': 1, 'scarcity': 17240}, {'badgeid': 1, 'appid': 550, 'level': 1, 'completion_time': 1443127229, 'xp': 100, 'communityitemid': '2164751483', 'border_color': 1, 'scarcity': 32824}, {'badgeid': 1, 'appid': 241930, 'level': 1, 'completion_time': 1449622372, 'xp': 100, 'communityitemid': '2353626220', 'border_color': 0, 'scarcity': 285737}, {'badgeid': 1, 'appid': 219740, 'level': 1, 'completion_time': 1449624530, 'xp': 100, 'communityitemid': '2353688783', 'border_color': 0, 'scarcity': 580485}, {'badgeid': 2, 'appid': 425280, 'level': 1, 'completion_time': 1451018965, 'xp': 100, 'communityitemid': '2426519923', 'border_color': 0, 'scarcity': 961478}, {'badgeid': 10, 'appid': 566020, 'level': 1, 'completion_time': 1483331790, 'xp': 100, 'communityitemid': '3847476193', 'border_color': 0, 'scarcity': 1336586}, {'badgeid': 1, 'appid': 1492660, 'level': 20, 'completion_time': 1608663945, 'xp': 2000, 'communityitemid': '15480952066', 'border_color': 0, 'scarcity': 361502}])"
      ]
     },
     "execution_count": 137,
     "metadata": {},
     "output_type": "execute_result"
    }
   ],
   "source": [
    "import random\n",
    "random.choice([u for u in users.values() if u.games == None])"
   ]
  }
 ],
 "metadata": {
  "interpreter": {
   "hash": "2be5faf79681da6f2a61fdfdd5405d65d042280f7fba6178067603e3a2925119"
  },
  "kernelspec": {
   "display_name": "Python 3.10.2 64-bit",
   "language": "python",
   "name": "python3"
  },
  "language_info": {
   "codemirror_mode": {
    "name": "ipython",
    "version": 3
   },
   "file_extension": ".py",
   "mimetype": "text/x-python",
   "name": "python",
   "nbconvert_exporter": "python",
   "pygments_lexer": "ipython3",
   "version": "3.10.2"
  },
  "orig_nbformat": 4
 },
 "nbformat": 4,
 "nbformat_minor": 2
}
