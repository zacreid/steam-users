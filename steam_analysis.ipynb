{
 "cells": [
  {
   "cell_type": "code",
   "execution_count": 1,
   "metadata": {},
   "outputs": [],
   "source": [
    "from SteamUser import *\n",
    "import json\n",
    "\n",
    "# Attempt to gather data of a users games via the Steam WebAPI (the documented rate limit is much higher than the actual)"
   ]
  },
  {
   "cell_type": "code",
   "execution_count": null,
   "metadata": {},
   "outputs": [],
   "source": [
    "users = {}\n",
    "userslist = []\n",
    "with open(\"INSERT FILE NAME\", \"r\") as file:\n",
    "    for l in file.readlines():\n",
    "        u = SteamUser.fromdict(json.loads(l))\n",
    "        users[u.steamID] = u\n",
    "    file.close()\n",
    "\n",
    "len(users)"
   ]
  },
  {
   "cell_type": "code",
   "execution_count": 21,
   "metadata": {},
   "outputs": [],
   "source": [
    "#Fix and get games\n",
    "\n",
    "from requests import ReadTimeout, HTTPError, exceptions\n",
    "from http import client\n",
    "\n",
    "import time\n",
    "from steam.webapi import WebAPI\n",
    "\n",
    "with open(\"steam.key\") as key:\n",
    "    API = WebAPI(key.read())"
   ]
  },
  {
   "cell_type": "code",
   "execution_count": null,
   "metadata": {},
   "outputs": [],
   "source": [
    "null_count = 0\n",
    "success_count = 0\n",
    "since_success = 0\n",
    "for u in users.values():\n",
    "    try:\n",
    "        games = API.IPlayerService.GetOwnedGames_v1(\n",
    "                steamid=u.steamID,\n",
    "                include_appinfo=0,\n",
    "                include_played_free_games=1,\n",
    "                appids_filter=0,\n",
    "                include_free_sub=1)['response']\n",
    "\n",
    "        u.games = list([g['appid'] for g in games['games']])\n",
    "        u.playtime = dict({a['appid']:a.get('playtime_forever') for a in games['games']})\n",
    "        u.recent_playtime = dict({a['appid']:a.get('playtime_2weeks') for a in games['games']})\n",
    "        u.total_playtime = sum(u.playtime.values())\n",
    "\n",
    "        users[u.steamID] = u\n",
    "        success_count += 1\n",
    "        since_success = 0\n",
    "\n",
    "    except KeyError:\n",
    "        null_count += 1\n",
    "        since_success += 1\n",
    "    \n",
    "    print(\"Null Count : {}, Success Count : {}, Since Success : {}, Total : {}\".format(null_count, success_count, since_success, null_count + success_count) + \"      \", end='\\r')"
   ]
  },
  {
   "cell_type": "code",
   "execution_count": null,
   "metadata": {},
   "outputs": [],
   "source": [
    "sum(u.games == None for u in users.values())"
   ]
  },
  {
   "cell_type": "code",
   "execution_count": null,
   "metadata": {},
   "outputs": [],
   "source": [
    "with open(\"INSERT FILENAME\", \"w\") as file:\n",
    "    file.writelines(json.dumps(a.asdict()) + \"\\n\" for a in users.values())\n",
    "\n",
    "len(users)"
   ]
  }
 ],
 "metadata": {
  "interpreter": {
   "hash": "2be5faf79681da6f2a61fdfdd5405d65d042280f7fba6178067603e3a2925119"
  },
  "kernelspec": {
   "display_name": "Python 3.10.2 64-bit",
   "language": "python",
   "name": "python3"
  },
  "language_info": {
   "codemirror_mode": {
    "name": "ipython",
    "version": 3
   },
   "file_extension": ".py",
   "mimetype": "text/x-python",
   "name": "python",
   "nbconvert_exporter": "python",
   "pygments_lexer": "ipython3",
   "version": "3.10.2"
  },
  "orig_nbformat": 4
 },
 "nbformat": 4,
 "nbformat_minor": 2
}
