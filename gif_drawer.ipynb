{
 "cells": [
  {
   "cell_type": "code",
   "execution_count": 2,
   "metadata": {},
   "outputs": [],
   "source": [
    "%%capture\n",
    "%load_ext autoreload\n",
    "%autoreload 2\n",
    "%pip install networkx seaborn imageio\n",
    "\n",
    "# Quick way to draw network animation of a users friend network\n",
    "\n",
    "k4 = (3840, 2160)\n",
    "k2 = (2560, 1440)\n",
    "k1 = (1920, 1080)\n",
    "\n",
    "from SteamUser import *\n",
    "import json\n",
    "import networkx as nx\n",
    "import igraph as ig\n",
    "import seaborn as sns\n",
    "import matplotlib.pyplot as plt\n",
    "import imageio"
   ]
  },
  {
   "cell_type": "code",
   "execution_count": 12,
   "metadata": {},
   "outputs": [
    {
     "data": {
      "text/plain": [
       "22131"
      ]
     },
     "execution_count": 12,
     "metadata": {},
     "output_type": "execute_result"
    }
   ],
   "source": [
    "users = {}\n",
    "userslist = []\n",
    "with open(\"users22k3.json\", \"r\") as file:\n",
    "    for l in file.readlines():\n",
    "        u = SteamUser.fromdict(json.loads(l))\n",
    "        users[u.steamID] = u\n",
    "    file.close()\n",
    "\n",
    "len(users)"
   ]
  },
  {
   "cell_type": "code",
   "execution_count": 27,
   "metadata": {},
   "outputs": [],
   "source": [
    "one = ['76561197960435530']\n",
    "two = [f for u in one if users[u].friends != None for f in users[u].friends if f in users and users[f].friends != None]\n",
    "three = [f for u in two if users[u].friends != None for f in users[u].friends if f in users and users[f].friends != None]\n",
    "\n",
    "g1 = nx.Graph()\n",
    "g1.add_nodes_from(one)\n",
    "g1.add_edges_from([[u.steamID, f] for u in users.values() if u.friends != None and len(u.friends) > 0 and u.steamID in one for f in u.friends if f in users and users[f].friends != None and len(users[f].friends) > 0 ])\n",
    "\n",
    "g1 = ig.Graph.from_networkx(g1)\n",
    "\n",
    "g2 = nx.Graph()\n",
    "g2.add_nodes_from(one)\n",
    "g2.add_edges_from([[u.steamID, f] for u in users.values() if u.friends != None and len(u.friends) > 0 and u.steamID in two for f in u.friends if f in users and users[f].friends != None and len(users[f].friends) > 0 ])\n",
    "\n",
    "g2 = ig.Graph.from_networkx(g2)\n",
    "\n",
    "g3 = nx.Graph()\n",
    "g3.add_nodes_from(one)\n",
    "g3.add_edges_from([[u.steamID, f] for u in users.values() if u.friends != None and len(u.friends) > 0 and u.steamID in three for f in u.friends if f in users and users[f].friends != None and len(users[f].friends) > 0 ])\n",
    "\n",
    "g3 = ig.Graph.from_networkx(g3)\n"
   ]
  }
 ],
 "metadata": {
  "interpreter": {
   "hash": "2be5faf79681da6f2a61fdfdd5405d65d042280f7fba6178067603e3a2925119"
  },
  "kernelspec": {
   "display_name": "Python 3.10.2 64-bit",
   "language": "python",
   "name": "python3"
  },
  "language_info": {
   "codemirror_mode": {
    "name": "ipython",
    "version": 3
   },
   "file_extension": ".py",
   "mimetype": "text/x-python",
   "name": "python",
   "nbconvert_exporter": "python",
   "pygments_lexer": "ipython3",
   "version": "3.10.2"
  },
  "orig_nbformat": 4
 },
 "nbformat": 4,
 "nbformat_minor": 2
}
